{
 "cells": [
  {
   "cell_type": "code",
   "execution_count": null,
   "id": "e30c3b10-d1a3-47b5-a007-07953ff9c12b",
   "metadata": {
    "execution": {
     "iopub.execute_input": "2025-07-09T16:34:03.667249Z",
     "iopub.status.busy": "2025-07-09T16:34:03.666028Z",
     "iopub.status.idle": "2025-07-09T16:34:06.957790Z",
     "shell.execute_reply": "2025-07-09T16:34:06.957065Z",
     "shell.execute_reply.started": "2025-07-09T16:34:03.666526Z"
    }
   },
   "outputs": [
    {
     "name": "stdout",
     "output_type": "stream",
     "text": [
      "sagemaker.config INFO - Not applying SDK defaults from location: /etc/xdg/sagemaker/config.yaml\n",
      "sagemaker.config INFO - Not applying SDK defaults from location: /home/sagemaker-user/.config/sagemaker/config.yaml\n"
     ]
    }
   ],
   "source": [
    "from sagemaker.huggingface import HuggingFaceModel\n",
    "from sagemaker import get_execution_role\n",
    "\n",
    "role = get_execution_role()\n",
    "\n",
    "model_s3_path = 's3-model-path'\n",
    "\n",
    "huggingface_model = HuggingFaceModel(\n",
    "    model_data=model_s3_path,\n",
    "    role=role,\n",
    "    transformers_version=\"4.6\",\n",
    "    pytorch_version=\"1.7\",\n",
    "    py_version=\"py36\",\n",
    "    entry_point=\"inference.py\"\n",
    ")"
   ]
  },
  {
   "cell_type": "code",
   "execution_count": null,
   "id": "be21a394-0e98-4dd6-8f18-e75ca2ae069b",
   "metadata": {
    "execution": {
     "iopub.execute_input": "2025-07-09T16:35:17.664492Z",
     "iopub.status.busy": "2025-07-09T16:35:17.664220Z",
     "iopub.status.idle": "2025-07-09T16:38:07.739461Z",
     "shell.execute_reply": "2025-07-09T16:38:07.738661Z",
     "shell.execute_reply.started": "2025-07-09T16:35:17.664473Z"
    }
   },
   "outputs": [
    {
     "name": "stdout",
     "output_type": "stream",
     "text": [
      "----!"
     ]
    }
   ],
   "source": [
    "predictor = huggingface_model.deploy(\n",
    "    initial_instance_count=1,\n",
    "    instance_type=\"ml.m5.xlarge\",\n",
    "    endpoint_name=\"endpoint-name\"  # Replace with your desired endpoint name\n",
    ")"
   ]
  },
  {
   "cell_type": "code",
   "execution_count": 7,
   "id": "f5f7db80-3a35-4141-8e98-6fa13805cbf7",
   "metadata": {
    "execution": {
     "iopub.execute_input": "2025-07-09T17:35:36.781721Z",
     "iopub.status.busy": "2025-07-09T17:35:36.781107Z",
     "iopub.status.idle": "2025-07-09T17:35:36.785053Z",
     "shell.execute_reply": "2025-07-09T17:35:36.784335Z",
     "shell.execute_reply.started": "2025-07-09T17:35:36.781692Z"
    }
   },
   "outputs": [],
   "source": [
    "data = {\"inputs\": \"Ozone layer depleting weather experts warn the nations\"}"
   ]
  },
  {
   "cell_type": "code",
   "execution_count": 8,
   "id": "38ebea92-fa70-412a-8e1d-a90e38aaaf41",
   "metadata": {
    "execution": {
     "iopub.execute_input": "2025-07-09T17:35:37.829578Z",
     "iopub.status.busy": "2025-07-09T17:35:37.828953Z",
     "iopub.status.idle": "2025-07-09T17:35:38.552218Z",
     "shell.execute_reply": "2025-07-09T17:35:38.551397Z",
     "shell.execute_reply.started": "2025-07-09T17:35:37.829553Z"
    }
   },
   "outputs": [],
   "source": [
    "prediction = predictor.predict(data)"
   ]
  },
  {
   "cell_type": "code",
   "execution_count": 9,
   "id": "1d9cded4-16cd-4b4a-af36-697f3c18aa77",
   "metadata": {
    "execution": {
     "iopub.execute_input": "2025-07-09T17:35:38.553472Z",
     "iopub.status.busy": "2025-07-09T17:35:38.553263Z",
     "iopub.status.idle": "2025-07-09T17:35:38.557796Z",
     "shell.execute_reply": "2025-07-09T17:35:38.557000Z",
     "shell.execute_reply.started": "2025-07-09T17:35:38.553454Z"
    }
   },
   "outputs": [
    {
     "data": {
      "text/plain": [
       "['{\"predicted_label\": \"Science\", \"probabilities\": [[0.0005445899441838264, 0.9992141723632812, 8.937953680288047e-05, 0.00015189261466730386]]}',\n",
       " 'application/json']"
      ]
     },
     "execution_count": 9,
     "metadata": {},
     "output_type": "execute_result"
    }
   ],
   "source": [
    "prediction"
   ]
  },
  {
   "cell_type": "code",
   "execution_count": null,
   "id": "fd38c81d-f043-40fe-9dad-c68445f8f267",
   "metadata": {},
   "outputs": [],
   "source": []
  }
 ],
 "metadata": {
  "kernelspec": {
   "display_name": "Python 3 (ipykernel)",
   "language": "python",
   "name": "python3"
  },
  "language_info": {
   "codemirror_mode": {
    "name": "ipython",
    "version": 3
   },
   "file_extension": ".py",
   "mimetype": "text/x-python",
   "name": "python",
   "nbconvert_exporter": "python",
   "pygments_lexer": "ipython3",
   "version": "3.12.9"
  }
 },
 "nbformat": 4,
 "nbformat_minor": 5
}
