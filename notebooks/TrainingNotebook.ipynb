{
 "cells": [
  {
   "cell_type": "code",
   "execution_count": 1,
   "id": "903f3645-3d70-427e-b200-6a9dac49b95e",
   "metadata": {
    "execution": {
     "iopub.execute_input": "2025-07-08T15:04:43.536641Z",
     "iopub.status.busy": "2025-07-08T15:04:43.536015Z",
     "iopub.status.idle": "2025-07-08T15:04:48.607496Z",
     "shell.execute_reply": "2025-07-08T15:04:48.606783Z",
     "shell.execute_reply.started": "2025-07-08T15:04:43.536609Z"
    }
   },
   "outputs": [
    {
     "name": "stdout",
     "output_type": "stream",
     "text": [
      "sagemaker.config INFO - Not applying SDK defaults from location: /etc/xdg/sagemaker/config.yaml\n",
      "sagemaker.config INFO - Not applying SDK defaults from location: /home/sagemaker-user/.config/sagemaker/config.yaml\n"
     ]
    }
   ],
   "source": [
    "import torch\n",
    "import transformers\n",
    "import sagemaker\n",
    "from sagemaker.huggingface import HuggingFace\n",
    "from sagemaker import get_execution_role\n",
    "\n",
    "role = get_execution_role()"
   ]
  },
  {
   "cell_type": "code",
   "execution_count": null,
   "id": "30b816d8-a041-4679-8ab4-f8a96bc9a70d",
   "metadata": {
    "execution": {
     "iopub.execute_input": "2025-07-08T15:04:49.240839Z",
     "iopub.status.busy": "2025-07-08T15:04:49.240077Z",
     "iopub.status.idle": "2025-07-08T15:04:49.247939Z",
     "shell.execute_reply": "2025-07-08T15:04:49.247069Z",
     "shell.execute_reply.started": "2025-07-08T15:04:49.240806Z"
    }
   },
   "outputs": [],
   "source": [
    "role"
   ]
  },
  {
   "cell_type": "code",
   "execution_count": 3,
   "id": "34c5bcb4-122d-4104-be61-56d3a6f44973",
   "metadata": {
    "execution": {
     "iopub.execute_input": "2025-07-08T15:04:50.336124Z",
     "iopub.status.busy": "2025-07-08T15:04:50.335835Z",
     "iopub.status.idle": "2025-07-08T15:04:50.495319Z",
     "shell.execute_reply": "2025-07-08T15:04:50.494661Z",
     "shell.execute_reply.started": "2025-07-08T15:04:50.336104Z"
    }
   },
   "outputs": [],
   "source": [
    "sagemaker_session = sagemaker.Session()"
   ]
  },
  {
   "cell_type": "code",
   "execution_count": 4,
   "id": "62d2c4cf-ba92-4576-b8d6-e1df12a3fa02",
   "metadata": {
    "execution": {
     "iopub.execute_input": "2025-07-08T15:04:51.058269Z",
     "iopub.status.busy": "2025-07-08T15:04:51.057644Z",
     "iopub.status.idle": "2025-07-08T15:04:51.061904Z",
     "shell.execute_reply": "2025-07-08T15:04:51.061164Z",
     "shell.execute_reply.started": "2025-07-08T15:04:51.058235Z"
    }
   },
   "outputs": [
    {
     "name": "stdout",
     "output_type": "stream",
     "text": [
      "2.6.0\n",
      "4.52.4\n"
     ]
    }
   ],
   "source": [
    "print(torch.__version__)\n",
    "print(transformers.__version__)"
   ]
  },
  {
   "cell_type": "code",
   "execution_count": null,
   "id": "b7b4dcd2-2a52-4d47-9f10-c6c7563c7a20",
   "metadata": {
    "execution": {
     "iopub.execute_input": "2025-07-08T15:04:53.040175Z",
     "iopub.status.busy": "2025-07-08T15:04:53.039594Z",
     "iopub.status.idle": "2025-07-08T15:04:53.336869Z",
     "shell.execute_reply": "2025-07-08T15:04:53.336112Z",
     "shell.execute_reply.started": "2025-07-08T15:04:53.040144Z"
    }
   },
   "outputs": [],
   "source": [
    "huggingface_estimator = HuggingFace(\n",
    "                        entry_point = 'script.py',#this will have the information about the model architecture, training data, loss function and etc\n",
    "                        source_dir = './',\n",
    "                        role = role,\n",
    "                        instance_count = 1,\n",
    "                        instance_type = 'ml.g6.xlarge',\n",
    "                        transformers_version = '4.6',\n",
    "                        pytorch_version = '1.8',\n",
    "                        output_path = 'output-folder-s3-path',\n",
    "                        py_version = 'py36',\n",
    "                        hyperparameters = {'epochs':2,\n",
    "                                            'train_batch_size':4,\n",
    "                                            'valid_batch_size':2,\n",
    "                                            'learning_rate':1e-05\n",
    "                                          },\n",
    "                        enable_sagemaker_metrics = True)"
   ]
  },
  {
   "cell_type": "code",
   "execution_count": null,
   "id": "fe30fb1e-ee81-4a7f-a525-3d2e0c8225ed",
   "metadata": {
    "execution": {
     "iopub.execute_input": "2025-07-08T15:04:54.353041Z",
     "iopub.status.busy": "2025-07-08T15:04:54.352679Z",
     "iopub.status.idle": "2025-07-08T15:06:22.475805Z",
     "shell.execute_reply": "2025-07-08T15:06:22.474681Z",
     "shell.execute_reply.started": "2025-07-08T15:04:54.353016Z"
    }
   },
   "outputs": [],
   "source": [
    "huggingface_estimator.fit()"
   ]
  },
  {
   "cell_type": "code",
   "execution_count": null,
   "id": "866dec81-e2a2-4bca-a90b-3de7e5bc04e2",
   "metadata": {},
   "outputs": [],
   "source": []
  }
 ],
 "metadata": {
  "kernelspec": {
   "display_name": "MLE",
   "language": "python",
   "name": "python3"
  },
  "language_info": {
   "codemirror_mode": {
    "name": "ipython",
    "version": 3
   },
   "file_extension": ".py",
   "mimetype": "text/x-python",
   "name": "python",
   "nbconvert_exporter": "python",
   "pygments_lexer": "ipython3",
   "version": "3.10.13"
  }
 },
 "nbformat": 4,
 "nbformat_minor": 5
}
